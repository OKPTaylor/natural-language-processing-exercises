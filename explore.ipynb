{
 "cells": [
  {
   "cell_type": "code",
   "execution_count": 1,
   "metadata": {},
   "outputs": [],
   "source": [
    "import re\n",
    "\n",
    "import unicodedata\n",
    "import nltk\n",
    "from wordcloud import WordCloud\n",
    "\n",
    "import os\n",
    "import pandas as pd\n",
    "import matplotlib.pyplot as plt\n",
    "import seaborn as sns\n",
    "\n",
    "\n",
    "import env"
   ]
  },
  {
   "cell_type": "code",
   "execution_count": null,
   "metadata": {},
   "outputs": [],
   "source": [
    "#loading spam data\n",
    "url = w.get_connection_url('spam_db')\n",
    "\n",
    "sql = 'SELECT * FROM spam'\n",
    "\n",
    "df = pd.read_sql(sql, url, index_col='id')\n",
    "\n",
    "df.head()"
   ]
  },
  {
   "cell_type": "code",
   "execution_count": null,
   "metadata": {},
   "outputs": [],
   "source": [
    "# clean the ham words\n",
    "ham_words = w.clean(' '.join(df[df.label=='ham']['text']))\n",
    "ham_words[:8]"
   ]
  },
  {
   "cell_type": "code",
   "execution_count": null,
   "metadata": {},
   "outputs": [],
   "source": [
    "spam_words = w.clean(' '.join(df[df.label=='spam']['text']))\n",
    "all_words = w.clean(' '.join(df['text'])) "
   ]
  },
  {
   "cell_type": "code",
   "execution_count": null,
   "metadata": {},
   "outputs": [],
   "source": [
    "\n",
    "top_20_spam_bigrams = pd.Series(nltk.ngrams(spam_words, 2)).value_counts().head(20)\n",
    "top_20_spam_bigrams.head()"
   ]
  },
  {
   "cell_type": "code",
   "execution_count": null,
   "metadata": {},
   "outputs": [],
   "source": [
    "##20 most frequent bigrams in the data\n",
    "def make_ngrams(words, n):\n",
    "    return pd.Series(nltk.ngrams(words, n)).value_counts().head(20)"
   ]
  },
  {
   "cell_type": "code",
   "execution_count": null,
   "metadata": {},
   "outputs": [],
   "source": [
    "test = make_ngrams(spam_words, 2)\n",
    "test.head()"
   ]
  },
  {
   "cell_type": "code",
   "execution_count": null,
   "metadata": {},
   "outputs": [],
   "source": [
    "#plot the occurances of the most freq bigrams\n",
    "\n",
    "top_20_spam_bigrams.sort_values(ascending=False).plot.barh(width=.9, figsize=(12,8))"
   ]
  },
  {
   "cell_type": "code",
   "execution_count": null,
   "metadata": {},
   "outputs": [],
   "source": [
    "#to_dict method\n",
    "\n",
    "top_20_spam_bigrams.to_dict()\n"
   ]
  },
  {
   "cell_type": "code",
   "execution_count": null,
   "metadata": {},
   "outputs": [],
   "source": [
    "#output: {modified key name : freq val}\n",
    "{k[0]+' '+k[1]: v for k, v in top_20_spam_bigrams.to_dict().items()}"
   ]
  },
  {
   "cell_type": "code",
   "execution_count": null,
   "metadata": {},
   "outputs": [],
   "source": [
    "spam_bigram_data = {k[0]+' '+k[1]: v for k, v in top_20_spam_bigrams.to_dict().items()}\n",
    "spam_bigram_img = WordCloud(background_color=\"white\", width=800, height=600).generate_from_frequencies(spam_bigram_data)\n",
    "\n",
    "plt.figure(figsize=(10,6))\n",
    "plt.imshow(spam_bigram_img)\n",
    "plt.axis(\"off\")\n",
    "plt.title(\"spam bigrams word cloud\")\n",
    "plt.show()"
   ]
  },
  {
   "cell_type": "code",
   "execution_count": null,
   "metadata": {},
   "outputs": [],
   "source": []
  },
  {
   "cell_type": "code",
   "execution_count": null,
   "metadata": {},
   "outputs": [],
   "source": []
  }
 ],
 "metadata": {
  "kernelspec": {
   "display_name": "base",
   "language": "python",
   "name": "python3"
  },
  "language_info": {
   "codemirror_mode": {
    "name": "ipython",
    "version": 3
   },
   "file_extension": ".py",
   "mimetype": "text/x-python",
   "name": "python",
   "nbconvert_exporter": "python",
   "pygments_lexer": "ipython3",
   "version": "3.8.8"
  },
  "orig_nbformat": 4
 },
 "nbformat": 4,
 "nbformat_minor": 2
}
